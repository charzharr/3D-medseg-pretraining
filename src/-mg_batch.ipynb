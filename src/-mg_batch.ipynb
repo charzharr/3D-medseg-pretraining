{
 "cells": [
  {
   "cell_type": "code",
   "execution_count": 1,
   "id": "weighted-madison",
   "metadata": {
    "execution": {
     "iopub.execute_input": "2022-02-19T10:06:44.117136Z",
     "iopub.status.busy": "2022-02-19T10:06:44.116263Z",
     "iopub.status.idle": "2022-02-19T10:06:47.695595Z",
     "shell.execute_reply": "2022-02-19T10:06:47.692642Z",
     "shell.execute_reply.started": "2022-02-19T10:06:44.116962Z"
    },
    "tags": []
   },
   "outputs": [
    {
     "name": "stdout",
     "output_type": "stream",
     "text": [
      "cuda:1\n"
     ]
    }
   ],
   "source": [
    "## --- Fast Import Snippet ---##\n",
    "%load_ext autoreload\n",
    "%autoreload 2\n",
    "%matplotlib inline\n",
    "\n",
    "import sys, os\n",
    "import math, random\n",
    "import pathlib\n",
    "import time\n",
    "import warnings\n",
    "import itertools\n",
    "import inspect\n",
    "import numbers, string\n",
    "import collections\n",
    "from collections import namedtuple, OrderedDict\n",
    "from pprint import pprint\n",
    "from tqdm import tqdm\n",
    "\n",
    "import cv2\n",
    "import numpy as np\n",
    "import pandas as pd\n",
    "import matplotlib.pyplot as plt\n",
    "import SimpleITK as sitk\n",
    "from PIL import Image\n",
    "\n",
    "import torch, torchvision\n",
    "import torch.nn as nn\n",
    "import torch.nn.functional as F\n",
    "from torch.nn.parallel import DistributedDataParallel as DDP\n",
    "from torch.utils.data import DataLoader\n",
    "import torchvision.transforms as T\n",
    "import albumentations as A\n",
    "from skimage.transform import resize as nd_resize\n",
    "from scipy.ndimage import rotate as nd_rotate\n",
    "\n",
    "np.set_printoptions(precision=3)\n",
    "curr_path = pathlib.Path(os.getcwd()).parent.absolute()\n",
    "\n",
    "cards = !echo $SGE_HGR_gpu_card\n",
    "device = torch.device(f\"cuda:{cards[0]}\" if torch.cuda.is_available() else 'cpu')\n",
    "print(device)\n"
   ]
  },
  {
   "cell_type": "code",
   "execution_count": 2,
   "id": "warming-sapphire",
   "metadata": {
    "execution": {
     "iopub.execute_input": "2022-02-19T10:06:47.701341Z",
     "iopub.status.busy": "2022-02-19T10:06:47.700503Z",
     "iopub.status.idle": "2022-02-19T10:06:49.988876Z",
     "shell.execute_reply": "2022-02-19T10:06:49.987714Z",
     "shell.execute_reply.started": "2022-02-19T10:06:47.701256Z"
    },
    "tags": []
   },
   "outputs": [
    {
     "name": "stdout",
     "output_type": "stream",
     "text": [
      "[CFG] Given cfg file \"prevec_general.yaml\" does not exist! Searching for matching name in experiment's config folder..\n",
      " ✔ Cfg experiment matched at /afs/crc.nd.edu/user/y/yzhang46/_3DPRE/src/experiments/prevec/configs.\n",
      " > Loading config (prevec_general.yaml).. done.\n",
      "🖼️  Getting MMWHS, BCV, MSD Liver, MSD Lung samples.\n",
      "[Took 0.54 sec for 231 samples.]\n",
      "🖼️  Task: mg, Config: {'t_mg_flip': 0.4, 't_mg_shuffle': 0.5, 't_mg_nonlinear': 0.9, 't_mg_paint': 0.9, 't_mg_inpaint': 0.8}.\n",
      "\n",
      "Train Data Components:\n",
      "🖼️  Sampling from scales: [0.75, 1.25]\n"
     ]
    }
   ],
   "source": [
    "# Load Config\n",
    "from run import get_experiment_cfg\n",
    "config = get_experiment_cfg('prevec_general.yaml')\n",
    "\n",
    "# Get Data Components\n",
    "from experiments.prevec.data_setup import get_pretrain_data_components\n",
    "data_d = get_pretrain_data_components(config)"
   ]
  },
  {
   "cell_type": "code",
   "execution_count": null,
   "id": "sustainable-error",
   "metadata": {
    "tags": []
   },
   "outputs": [],
   "source": [
    "loader = data_d['train_loader']\n",
    "start = time.time()\n",
    "for it, batch in enumerate(loader):\n",
    "    samples = batch['samples']\n",
    "    X = batch['X']\n",
    "    Y = batch['Y']\n",
    "    \n",
    "    print('⭐ ⭐', X.shape, time.time() - start)\n",
    "    start = time.time()\n",
    "    "
   ]
  },
  {
   "cell_type": "code",
   "execution_count": null,
   "id": "cross-perception",
   "metadata": {},
   "outputs": [],
   "source": []
  },
  {
   "cell_type": "code",
   "execution_count": null,
   "id": "allied-color",
   "metadata": {},
   "outputs": [],
   "source": []
  }
 ],
 "metadata": {
  "kernelspec": {
   "display_name": "Python 3",
   "language": "python",
   "name": "python3"
  },
  "language_info": {
   "codemirror_mode": {
    "name": "ipython",
    "version": 3
   },
   "file_extension": ".py",
   "mimetype": "text/x-python",
   "name": "python",
   "nbconvert_exporter": "python",
   "pygments_lexer": "ipython3",
   "version": "3.7.3"
  }
 },
 "nbformat": 4,
 "nbformat_minor": 5
}
