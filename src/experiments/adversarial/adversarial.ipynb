{
 "cells": [
  {
   "cell_type": "code",
   "execution_count": 1,
   "id": "aware-michael",
   "metadata": {
    "execution": {
     "iopub.execute_input": "2021-05-02T01:39:14.815293Z",
     "iopub.status.busy": "2021-05-02T01:39:14.814656Z",
     "iopub.status.idle": "2021-05-02T01:39:18.111017Z",
     "shell.execute_reply": "2021-05-02T01:39:18.109786Z",
     "shell.execute_reply.started": "2021-05-02T01:39:14.815143Z"
    },
    "tags": []
   },
   "outputs": [
    {
     "name": "stdout",
     "output_type": "stream",
     "text": [
      "cuda:2\n"
     ]
    }
   ],
   "source": [
    "## Fast Import\n",
    "%load_ext autoreload\n",
    "%autoreload 2\n",
    "%matplotlib inline\n",
    "\n",
    "import sys, os\n",
    "import string\n",
    "import pathlib\n",
    "import time\n",
    "import math, random\n",
    "import pprint\n",
    "import yaml\n",
    "from collections import OrderedDict\n",
    "from tqdm import tqdm\n",
    "\n",
    "import cv2\n",
    "import numpy as np\n",
    "import pandas as pd\n",
    "import matplotlib.pyplot as plt\n",
    "from PIL import Image\n",
    "\n",
    "import torch, torchvision\n",
    "import torch.nn as nn\n",
    "import torch.nn.functional as F\n",
    "import torchvision.transforms as T\n",
    "import albumentations as A\n",
    "\n",
    "np.set_printoptions(precision=3)\n",
    "curr_path = pathlib.Path(os.getcwd()).absolute()\n",
    "\n",
    "cards = !echo $SGE_HGR_gpu_card\n",
    "device = torch.device(f\"cuda:{cards[0]}\" if torch.cuda.is_available() else 'cpu')\n",
    "print(device)"
   ]
  },
  {
   "cell_type": "code",
   "execution_count": 2,
   "id": "silver-snake",
   "metadata": {
    "execution": {
     "iopub.execute_input": "2021-05-02T01:39:18.113154Z",
     "iopub.status.busy": "2021-05-02T01:39:18.112835Z",
     "iopub.status.idle": "2021-05-02T01:39:18.155953Z",
     "shell.execute_reply": "2021-05-02T01:39:18.155062Z",
     "shell.execute_reply.started": "2021-05-02T01:39:18.113120Z"
    },
    "tags": []
   },
   "outputs": [],
   "source": [
    "class EpochMeters:\n",
    "    \"\"\" Updates every iteration and keeps track of accumulated stats. \"\"\"\n",
    "    def __init__(self):\n",
    "        self.accums = {}\n",
    "        self.ns = {}\n",
    "\n",
    "    def update(self, metrics_d, n=1):\n",
    "        for k, item in metrics_d.items():\n",
    "            if k not in self.accums:\n",
    "                self.accums[k] = item\n",
    "                self.ns[k] = n\n",
    "                continue\n",
    "            self.accums[k] += item\n",
    "            self.ns[k] += n\n",
    "\n",
    "    def avg(self, no_avg=[]):\n",
    "        ret = {}\n",
    "        for k, v in self.accums.items():\n",
    "            if k in no_avg:\n",
    "                ret[k] = v\n",
    "            else:\n",
    "                ret[k] = v/self.ns[k]\n",
    "        return ret\n",
    "\n",
    "def mem():\n",
    "    \"\"\" Get primary GPU card memory usage. \"\"\"\n",
    "    if not torch.cuda.is_available():\n",
    "        return -1.\n",
    "    import subprocess\n",
    "    result = subprocess.check_output(\n",
    "        [\n",
    "            'nvidia-smi', '--query-gpu=memory.used',\n",
    "            '--format=csv,nounits,noheader'\n",
    "        ], encoding='utf-8')\n",
    "    # Convert lines into a dictionary\n",
    "    gpu_memory = [int(x) for x in result.strip().split('\\n')]\n",
    "    mem_map = dict(zip(range(len(gpu_memory)), gpu_memory))\n",
    "    prim_card_num = int(cards[0])\n",
    "    return mem_map[prim_card_num]/1000"
   ]
  },
  {
   "cell_type": "code",
   "execution_count": 3,
   "id": "careful-passage",
   "metadata": {
    "execution": {
     "iopub.execute_input": "2021-05-02T01:39:21.223843Z",
     "iopub.status.busy": "2021-05-02T01:39:21.223318Z",
     "iopub.status.idle": "2021-05-02T01:39:26.151048Z",
     "shell.execute_reply": "2021-05-02T01:39:26.149923Z",
     "shell.execute_reply.started": "2021-05-02T01:39:21.223792Z"
    },
    "tags": []
   },
   "outputs": [
    {
     "name": "stdout",
     "output_type": "stream",
     "text": [
      "Files already downloaded and verified\n",
      "Files already downloaded and verified\n"
     ]
    }
   ],
   "source": [
    "data_dir = '/afs/crc.nd.edu/user/y/yzhang46/datasets/CIFAR-10/torch'\n",
    "classes = ('plane', 'car', 'bird', 'cat',\n",
    "           'deer', 'dog', 'frog', 'horse', 'ship', 'truck')\n",
    "train_set = torchvision.datasets.CIFAR10(root=data_dir, train=True, download=True, \n",
    "                transform=T.Compose([\n",
    "                    T.RandomCrop(32, padding=4),\n",
    "                    T.RandomHorizontalFlip(p=0.5),\n",
    "#                     T.RandomChoice([T.ColorJitter(0.2, 0.2, 0.2), \n",
    "#                                     T.RandomGrayscale(p=0.4)]),\n",
    "                    T.ToTensor(),\n",
    "                    T.Normalize((0.4914, 0.4822, 0.4465), (0.2023, 0.1994, 0.2010))\n",
    "                ]))\n",
    "train_loader = torch.utils.data.DataLoader(train_set, batch_size=256,\n",
    "                shuffle=True, num_workers=4)\n",
    "test_set = torchvision.datasets.CIFAR10(root=data_dir, train=False, download=True,\n",
    "                transform=T.Compose([\n",
    "                    T.ToTensor(),\n",
    "                    T.Normalize((0.4914, 0.4822, 0.4465), (0.2023, 0.1994, 0.2010))\n",
    "                ]))\n",
    "test_loader = torch.utils.data.DataLoader(test_set, batch_size=256,\n",
    "                shuffle=False, num_workers=4)\n",
    "\n",
    "# model = torchvision.models.resnet50(pretrained=False)\n",
    "# model.fc = nn.Linear(model.fc.in_features, 10, bias=True)\n",
    "import resnet\n",
    "model = resnet.ResNet50()\n",
    "model = model.to(device)\n",
    "\n",
    "criterion = torch.nn.CrossEntropyLoss().to(device)\n",
    "optimizer = torch.optim.SGD(model.parameters(), lr=0.1,\n",
    "                      momentum=0.9, weight_decay=5e-4)\n",
    "scheduler = torch.optim.lr_scheduler.CosineAnnealingLR(optimizer, T_max=200)"
   ]
  },
  {
   "cell_type": "code",
   "execution_count": null,
   "id": "yellow-cancer",
   "metadata": {
    "tags": []
   },
   "outputs": [],
   "source": [
    "def run_epoch(loader, train=True):\n",
    "    tot, corr = 0, 0\n",
    "    for it, batch in enumerate(loader):\n",
    "        X = batch[0].to(device)\n",
    "        Y = batch[1].long().to(device, non_blocking=True)\n",
    "        \n",
    "        def imshow(img):\n",
    "            plt.figure(figsize=(10, 30))\n",
    "            img = img / 2 + 0.5     # unnormalize\n",
    "            npimg = img.numpy()\n",
    "            plt.imshow(np.transpose(npimg, (1, 2, 0)))\n",
    "            plt.show()\n",
    "        # imshow(torchvision.utils.make_grid(X.cpu()))\n",
    "        \n",
    "        out = model(X)\n",
    "        loss = criterion(out, Y)\n",
    "        \n",
    "        if train:\n",
    "            optimizer.zero_grad()\n",
    "            loss.backward()\n",
    "            optimizer.step()\n",
    "            \n",
    "        _, predicted = out.max(1)\n",
    "        batch_corr = (predicted == Y).sum()\n",
    "        corr += batch_corr\n",
    "        batch_tot = X.shape[0]\n",
    "        tot += batch_tot\n",
    "        \n",
    "        if train and it % 50 == 0:\n",
    "            print(\n",
    "                f\"    Iter {it+1}/{len(loader)} ({mem():.1f} GB) - \"\n",
    "                f\"loss {loss.item():.3f}, acc = {batch_corr}/{batch_tot}\"\n",
    "            )\n",
    "    print(f\"** Epoch Summary: acc = {corr}/{tot} {100 * corr / tot:.2f}%\")\n",
    "\n",
    "for epoch in range(200):\n",
    "    print(\"\\n=============================\")\n",
    "    print(f\"Starting Epoch {epoch+1} (lr: {next(iter(optimizer.param_groups))['lr']:.7f})\")\n",
    "    print(\"=============================\")\n",
    "    \n",
    "    print('Training..')\n",
    "    model.train()\n",
    "    run_epoch(train_loader)\n",
    "    scheduler.step()\n",
    "    \n",
    "    print('Testing..')\n",
    "    model.eval()\n",
    "    with torch.no_grad():\n",
    "        run_epoch(test_loader, train=False)\n",
    "    torch.save(model.state_dict(), 'resnet50_cifar10.pth')    "
   ]
  },
  {
   "cell_type": "code",
   "execution_count": 12,
   "id": "consolidated-tomorrow",
   "metadata": {
    "execution": {
     "iopub.execute_input": "2021-05-02T06:41:34.054270Z",
     "iopub.status.busy": "2021-05-02T06:41:34.053594Z",
     "iopub.status.idle": "2021-05-02T06:41:35.150992Z",
     "shell.execute_reply": "2021-05-02T06:41:35.149582Z",
     "shell.execute_reply.started": "2021-05-02T06:41:34.054209Z"
    },
    "tags": []
   },
   "outputs": [
    {
     "name": "stdout",
     "output_type": "stream",
     "text": [
      "25557032\n",
      "23520842\n",
      "torch.Size([256, 64, 32, 32])\n",
      "torch.Size([256, 2048, 4, 4])\n",
      "torch.Size([256, 2048, 1, 1])\n",
      "torch.Size([256, 2048])\n"
     ]
    }
   ],
   "source": [
    "\"\"\"\n",
    "- 200 epochs, +color/gray, 0.5 norm, pretrain\n",
    "\n",
    "- 200 epochs, no color, reg norm, pretrain\n",
    "   SGD(lr=0.05)\n",
    "    Train 99.81%, Test 89.12%\n",
    "   SGD(lr=0.1) + Cosine Scheduler\n",
    "    Train 99.7%, Test 89.49%\n",
    "   SGD(lr=0.1) + Cosine Scheduler (random init)\n",
    "    Train 99.8%, Test 88.4%\n",
    "- 200 epochs, no color, reg norm, random init, new resnet\n",
    "   SGD(lr=0.1) + Cosine Scheduler (random init)\n",
    "    Train 100%, Test 94.99%\n",
    "\"\"\"\n",
    "\n",
    "rnet = torchvision.models.resnet50()\n",
    "print(sum([p.numel() for p in rnet.parameters()]))\n",
    "print(sum([p.numel() for p in model.parameters()]))\n",
    "\n",
    "### Quick Eval\n",
    "# model.load_state_dict(torch.load('resnet50_cifar10'))\n",
    "# model.eval()\n",
    "with torch.no_grad():\n",
    "    batch = next(iter(test_loader))\n",
    "    X = batch[0].to(device)\n",
    "    model(X)\n",
    "    \n",
    "    "
   ]
  },
  {
   "cell_type": "code",
   "execution_count": null,
   "id": "prepared-mongolia",
   "metadata": {
    "tags": []
   },
   "outputs": [],
   "source": []
  },
  {
   "cell_type": "code",
   "execution_count": null,
   "id": "wanted-capacity",
   "metadata": {},
   "outputs": [],
   "source": []
  }
 ],
 "metadata": {
  "kernelspec": {
   "display_name": "Python 3",
   "language": "python",
   "name": "python3"
  },
  "language_info": {
   "codemirror_mode": {
    "name": "ipython",
    "version": 3
   },
   "file_extension": ".py",
   "mimetype": "text/x-python",
   "name": "python",
   "nbconvert_exporter": "python",
   "pygments_lexer": "ipython3",
   "version": "3.7.3"
  }
 },
 "nbformat": 4,
 "nbformat_minor": 5
}
