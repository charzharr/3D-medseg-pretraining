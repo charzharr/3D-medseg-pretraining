{
 "cells": [
  {
   "cell_type": "code",
   "execution_count": 5,
   "source": [
    "## Fast Import\n",
    "%load_ext autoreload\n",
    "%autoreload 2\n",
    "%matplotlib inline\n",
    "\n",
    "import sys, os\n",
    "import pathlib\n",
    "import time\n",
    "import math, random\n",
    "import pprint\n",
    "import collections\n",
    "import numbers, string\n",
    "\n",
    "import yaml\n",
    "from tqdm import tqdm\n",
    "\n",
    "import cv2\n",
    "import numpy as np\n",
    "import pandas as pd\n",
    "import matplotlib.pyplot as plt\n",
    "import SimpleITK as sitk\n",
    "from PIL import Image\n",
    "\n",
    "import torch, torchvision\n",
    "import torch.nn as nn\n",
    "import torch.nn.functional as F\n",
    "import torchvision.transforms as T\n",
    "import albumentations as A\n",
    "\n",
    "np.set_printoptions(precision=3)\n",
    "curr_path = pathlib.Path(os.getcwd()).absolute()\n",
    "\n",
    "cards = !echo $SGE_HGR_gpu_card\n",
    "device = torch.device(f\"cuda:{cards[0]}\" if torch.cuda.is_available() else 'cpu')\n",
    "print(device)"
   ],
   "outputs": [
    {
     "output_type": "stream",
     "name": "stdout",
     "text": [
      "The autoreload extension is already loaded. To reload it, use:\n",
      "  %reload_ext autoreload\n",
      "cpu\n"
     ]
    }
   ],
   "metadata": {
    "collapsed": true
   }
  },
  {
   "cell_type": "markdown",
   "source": [
    "# PGL Model + Crit + Optim + Scheduler Setup"
   ],
   "metadata": {}
  },
  {
   "cell_type": "code",
   "execution_count": 8,
   "source": [
    "from experiments.pgl.pgl_unet3d import UNet3D\n",
    "from lib.nets.ema import create_ema_model, update_ema_model\n",
    "\n",
    "model = UNet3D(n_input=1, n_class=1, act='relu')\n",
    "ema_model = create_ema_model(UNet3D(n_input=1, n_class=1, act='relu'))\n",
    "model, ema_model = model.to(device), ema_model.to(device)\n",
    "if True:\n",
    "    print(f'  * {-1} GPUs, using nn.DataParallel.')\n",
    "    model = nn.DataParallel(model)\n",
    "    ema_model = nn.DataParallel(ema_model)"
   ],
   "outputs": [
    {
     "output_type": "stream",
     "name": "stdout",
     "text": [
      "💠 UNet3D-PGL model initiated with n_classes=1, \n",
      "   n_input=1, activation=relu, \n",
      "   params=19,073,665, trainable_params=19,073,665.\n",
      "💠 UNet3D-PGL model initiated with n_classes=1, \n",
      "   n_input=1, activation=relu, \n",
      "   params=19,073,665, trainable_params=19,073,665.\n",
      "  * -1 GPUs, using nn.DataParallel.\n"
     ]
    }
   ],
   "metadata": {}
  },
  {
   "cell_type": "code",
   "execution_count": 30,
   "source": [
    "from lib.assess.losses3d import BYOL3d\n",
    "\n",
    "criterion = BYOL3d()\n",
    "\n",
    "# Test criterion \n",
    "pred = torch.randn((200, 1, 96, 96, 16))\n",
    "targ = torch.randn((200, 1, 96, 96, 16))\n",
    "\n",
    "# BYOL 2 - 2 * .. loss\n",
    "def byol1(pred, targ):\n",
    "    pred = pred.view(pred.shape[0], -1)\n",
    "    targ = targ.view(targ.shape[0], -1)\n",
    "    pred_norm = F.normalize(pred, dim=-1, p=2)\n",
    "    targ_norm = F.normalize(targ, dim=-1, p=2)\n",
    "    loss = torch.sum(2 - 2 * (pred_norm * targ_norm).sum(dim=-1)) / pred.shape[0]\n",
    "    print(loss)\n",
    "    return loss\n",
    "\n",
    "def byol2(pred, targ):\n",
    "    pred = pred.view(pred.shape[0], -1)\n",
    "    targ = targ.view(targ.shape[0], -1)\n",
    "    pred_norm = F.normalize(pred, dim=-1, p=2)\n",
    "    targ_norm = F.normalize(targ, dim=-1, p=2)\n",
    "    loss = ((pred_norm - targ_norm) ** 2).sum() / pred.shape[0]\n",
    "    print(loss, '-')\n",
    "    return loss\n",
    "\n",
    "times1 = np.zeros(10)\n",
    "times2 = np.zeros(10)\n",
    "for i in range(10):\n",
    "    start = time.time()\n",
    "    byol1(pred, targ)\n",
    "    times1[i] = time.time() - start\n",
    "    \n",
    "    start = time.time()\n",
    "    byol2(pred, targ)\n",
    "    times2[i] = time.time() - start\n",
    "print(f'1: {times1.mean():.3f}, 2: {times2.mean():.3f}')\n"
   ],
   "outputs": [
    {
     "output_type": "stream",
     "name": "stdout",
     "text": [
      "💠 Criterion: BYOL3d initiated.\n",
      "1: 0.089, 2: 0.116\n"
     ]
    }
   ],
   "metadata": {}
  },
  {
   "cell_type": "markdown",
   "source": [
    "# PGL Data Setup"
   ],
   "metadata": {}
  },
  {
   "cell_type": "code",
   "execution_count": 4,
   "source": [
    "from experiments.pgl import data_setup\n",
    "\n",
    "data_setup.get_data_components(None)\n"
   ],
   "outputs": [],
   "metadata": {}
  }
 ],
 "metadata": {
  "kernelspec": {
   "name": "python3",
   "display_name": "Python 3.9.2 64-bit"
  },
  "language_info": {
   "name": "python",
   "version": "3.9.2",
   "mimetype": "text/x-python",
   "codemirror_mode": {
    "name": "ipython",
    "version": 3
   },
   "pygments_lexer": "ipython3",
   "nbconvert_exporter": "python",
   "file_extension": ".py"
  },
  "interpreter": {
   "hash": "8c77930b1998cdb3155812fd84593664449793cd928f7a3dec3f015ffd42db26"
  }
 },
 "nbformat": 4,
 "nbformat_minor": 2
}