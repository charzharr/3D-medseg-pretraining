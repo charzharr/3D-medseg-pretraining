{
 "cells": [
  {
   "cell_type": "code",
   "execution_count": 13,
   "metadata": {},
   "outputs": [
    {
     "output_type": "stream",
     "name": "stdout",
     "text": [
      "The autoreload extension is already loaded. To reload it, use:\n",
      "  %reload_ext autoreload\n",
      "cpu\n"
     ]
    }
   ],
   "source": [
    "## Fast Import\n",
    "%load_ext autoreload\n",
    "%autoreload 2\n",
    "%matplotlib inline\n",
    "\n",
    "import sys, os\n",
    "import string\n",
    "import pathlib\n",
    "import time\n",
    "import math, random\n",
    "import pprint\n",
    "import yaml\n",
    "from collections import OrderedDict\n",
    "from tqdm import tqdm\n",
    "\n",
    "import cv2\n",
    "import SimpleITK as sitk\n",
    "import numpy as np\n",
    "import pandas as pd\n",
    "import matplotlib.pyplot as plt\n",
    "from PIL import Image\n",
    "\n",
    "import torch, torchvision\n",
    "import torch.nn as nn\n",
    "import torch.nn.functional as F\n",
    "import torchvision.transforms as T\n",
    "import albumentations as A\n",
    "\n",
    "np.set_printoptions(precision=3)\n",
    "curr_path = pathlib.Path(os.getcwd()).absolute()\n",
    "\n",
    "cards = !echo $SGE_HGR_gpu_card\n",
    "device = torch.device(f\"cuda:{cards[0]}\" if torch.cuda.is_available() else 'cpu')\n",
    "print(device)\n",
    "\n",
    "import lib\n",
    "from lib.data.bcv import dataset as bcv\n",
    "from lib.utils.io import files, images3d, images2d"
   ]
  },
  {
   "cell_type": "code",
   "execution_count": 5,
   "metadata": {},
   "outputs": [
    {
     "output_type": "stream",
     "name": "stdout",
     "text": [
      "True\nTrue\nimg0001.nii.gz\n"
     ]
    }
   ],
   "source": [
    "bcv_df = bcv.get_df()\n",
    "im = bcv_df.iloc[1]['image']\n",
    "print(files.is_image(im, case_sensitive=True))\n",
    "im += '/jp.nii.gz.nii.dcm'\n",
    "print(files.is_image(im, case_sensitive=True))\n",
    "\n",
    "im = pathlib.Path(bcv_df.iloc[0]['image'])\n",
    "print(files.get_filename(im))"
   ]
  },
  {
   "cell_type": "code",
   "execution_count": 30,
   "metadata": {},
   "outputs": [
    {
     "output_type": "stream",
     "name": "stdout",
     "text": [
      "Error writing image to ./comp.png!\n"
     ]
    }
   ],
   "source": [
    "im = bcv_df.iloc[1]['image']\n",
    "sitk_img = images3d.read_sitk3d(im)\n",
    "images3d.write_sitk_gray3d(sitk_img, './comp.png', compress=True)\n",
    "images3d.write_sitk_gray3d(sitk_img, './ncomp.nii', compress=False)"
   ]
  },
  {
   "cell_type": "code",
   "execution_count": 29,
   "metadata": {},
   "outputs": [
    {
     "output_type": "execute_result",
     "data": {
      "text/plain": [
       "<SimpleITK.SimpleITK.Image; proxy of <Swig Object of type 'std::vector< itk::simple::Image >::value_type *' at 0x7f0649ab4ae0> >"
      ]
     },
     "metadata": {},
     "execution_count": 29
    }
   ],
   "source": [
    "sitk_img"
   ]
  },
  {
   "cell_type": "code",
   "execution_count": 2,
   "metadata": {},
   "outputs": [
    {
     "output_type": "execute_result",
     "data": {
      "text/plain": [
       "(3, 224, 224)"
      ]
     },
     "metadata": {},
     "execution_count": 2
    }
   ],
   "source": [
    "np_im = np.zeros((224, 224, 3))\n",
    "images3d.to_np_channel_first(np_im).shape"
   ]
  },
  {
   "cell_type": "code",
   "execution_count": 23,
   "metadata": {},
   "outputs": [],
   "source": [
    "\n",
    "\n"
   ]
  },
  {
   "cell_type": "code",
   "execution_count": 23,
   "metadata": {},
   "outputs": [],
   "source": [
    "\n"
   ]
  },
  {
   "cell_type": "code",
   "execution_count": 22,
   "metadata": {},
   "outputs": [],
   "source": []
  },
  {
   "cell_type": "code",
   "execution_count": null,
   "metadata": {},
   "outputs": [],
   "source": []
  }
 ],
 "metadata": {
  "kernelspec": {
   "name": "python373jvsc74a57bd04e81feb396374cfa035075054eb8946fe199eb4a75873561d297a1c2b3aa8470",
   "display_name": "Python 3.7.3 64-bit"
  },
  "metadata": {
   "interpreter": {
    "hash": "4e81feb396374cfa035075054eb8946fe199eb4a75873561d297a1c2b3aa8470"
   }
  }
 },
 "nbformat": 4,
 "nbformat_minor": 5
}