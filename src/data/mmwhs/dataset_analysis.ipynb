{
 "cells": [
  {
   "cell_type": "code",
   "execution_count": 1,
   "id": "foreign-potential",
   "metadata": {
    "execution": {
     "iopub.execute_input": "2021-11-05T09:03:06.506736Z",
     "iopub.status.busy": "2021-11-05T09:03:06.506031Z",
     "iopub.status.idle": "2021-11-05T09:03:16.691149Z",
     "shell.execute_reply": "2021-11-05T09:03:16.689842Z",
     "shell.execute_reply.started": "2021-11-05T09:03:06.506587Z"
    },
    "tags": []
   },
   "outputs": [
    {
     "name": "stdout",
     "output_type": "stream",
     "text": [
      "cuda:3\n"
     ]
    }
   ],
   "source": [
    "## Fast Import\n",
    "%load_ext autoreload\n",
    "%autoreload 2\n",
    "%matplotlib inline\n",
    "\n",
    "import sys, os\n",
    "import pathlib\n",
    "import logging\n",
    "from pathlib import Path\n",
    "import time\n",
    "import math, random\n",
    "import pprint\n",
    "import collections\n",
    "from collections import OrderedDict\n",
    "import numbers, string\n",
    "import nibabel as nib\n",
    "\n",
    "import yaml\n",
    "from tqdm import tqdm\n",
    "\n",
    "import cv2\n",
    "import numpy as np\n",
    "import pandas as pd\n",
    "import matplotlib.pyplot as plt\n",
    "import SimpleITK as sitk\n",
    "from PIL import Image\n",
    "\n",
    "import torch, torchvision\n",
    "import torch.nn as nn\n",
    "import torch.nn.functional as F\n",
    "import torchvision.transforms as T\n",
    "import albumentations as A\n",
    "\n",
    "np.set_printoptions(precision=3)\n",
    "curr_path = pathlib.Path(os.getcwd()).absolute()\n",
    "\n",
    "cards = !echo $SGE_HGR_gpu_card\n",
    "device = torch.device(f\"cuda:{cards[0]}\" if torch.cuda.is_available() else 'cpu')\n",
    "print(device)"
   ]
  },
  {
   "cell_type": "markdown",
   "id": "completed-cloud",
   "metadata": {},
   "source": [
    "# DF"
   ]
  },
  {
   "cell_type": "code",
   "execution_count": 2,
   "id": "amended-baking",
   "metadata": {
    "execution": {
     "iopub.execute_input": "2021-11-05T09:03:16.693541Z",
     "iopub.status.busy": "2021-11-05T09:03:16.693187Z",
     "iopub.status.idle": "2021-11-05T09:03:16.741242Z",
     "shell.execute_reply": "2021-11-05T09:03:16.740483Z",
     "shell.execute_reply.started": "2021-11-05T09:03:16.693506Z"
    },
    "tags": []
   },
   "outputs": [],
   "source": [
    "def natural_sort(l):\n",
    "    import re\n",
    "    convert = lambda text: int(text) if text.isdigit() else text.lower()\n",
    "    alphanum_key = lambda key: [convert(c) for c in re.split('([0-9]+)', key)]\n",
    "    return sorted(l, key=alphanum_key)\n",
    "\n",
    "def collect_df(dataset_path, save=None):\n",
    "    \"\"\" Collect df for MMWHS dataset (for now, only labeled training samples). \n",
    "    Note:\n",
    "        - Only returns 'train' subset. You have to manually change. \n",
    "    \"\"\"\n",
    "    ds_path = Path(dataset_path)\n",
    "\n",
    "    logging.info(f\"Collecting MMWHS df.\")\n",
    "    start_time = time.time()\n",
    "\n",
    "    train_path = ds_path / 'ct_train_images'\n",
    "    train_images = natural_sort([str(f) for f in train_path.iterdir()\n",
    "                                 if f.suffix == '.gz'])\n",
    "    label_path = ds_path / 'ct_train_labels'\n",
    "    label_images = natural_sort([str(f) for f in label_path.iterdir()\n",
    "                                 if f.suffix == '.gz'])\n",
    "    assert len(train_images) == len(label_images)\n",
    "\n",
    "    # trains, vals, tests = split(range(len(train_iamges)))\n",
    "\n",
    "    df_d = OrderedDict([\n",
    "        ('id', []),\n",
    "        ('image', []),\n",
    "        ('mask', []),\n",
    "        ('imgsize', []),\n",
    "        ('subset', []),\n",
    "    ])\n",
    "    for i, img in enumerate(train_images):\n",
    "        img_path = Path(img)\n",
    "        mask_path = Path(label_images[i])\n",
    "        assert img_path.name.split('_')[2] == mask_path.name.split('_')[2]\n",
    "\n",
    "        vol = nib.load(img)\n",
    "\n",
    "        df_d['id'].append(i + 1)\n",
    "        df_d['image'].append(img)\n",
    "        df_d['mask'].append(str(mask_path))\n",
    "        df_d['subset'].append('train')\n",
    "        df_d['imgsize'].append(vol.shape)\n",
    "\n",
    "    df = pd.DataFrame(df_d)\n",
    "\n",
    "    elapsed_time = time.time() - start_time\n",
    "    logging.info(f\"Done collecting MMWHS ({elapsed_time:.1f} sec).\")\n",
    "    if save:\n",
    "        df.to_csv(save)\n",
    "    return df"
   ]
  },
  {
   "cell_type": "code",
   "execution_count": 3,
   "id": "southwest-indonesia",
   "metadata": {
    "execution": {
     "iopub.execute_input": "2021-11-05T09:03:16.742752Z",
     "iopub.status.busy": "2021-11-05T09:03:16.742479Z",
     "iopub.status.idle": "2021-11-05T09:03:16.803510Z",
     "shell.execute_reply": "2021-11-05T09:03:16.802783Z",
     "shell.execute_reply.started": "2021-11-05T09:03:16.742727Z"
    },
    "tags": []
   },
   "outputs": [],
   "source": [
    "ds_dir = '/afs/crc.nd.edu/user/y/yzhang46/datasets/MMWHS-2017'\n",
    "df = collect_df(ds_dir, save=None)\n",
    "# df.to_csv('default_df.csv')\n",
    "\n",
    "# 3, 6, 12, 15 are test\n",
    "lab_df = df.copy()\n",
    "for idx in (2, 5, 11, 14):\n",
    "    lab_df.at[idx, 'subset'] = 'test'\n",
    "# lab_df.to_csv('lab_df.csv')"
   ]
  },
  {
   "cell_type": "markdown",
   "id": "adequate-positive",
   "metadata": {},
   "source": [
    "## Image Information"
   ]
  },
  {
   "cell_type": "code",
   "execution_count": 37,
   "id": "meaningful-malta",
   "metadata": {
    "execution": {
     "iopub.execute_input": "2021-11-04T03:53:47.865412Z",
     "iopub.status.busy": "2021-11-04T03:53:47.864801Z",
     "iopub.status.idle": "2021-11-04T03:54:20.725768Z",
     "shell.execute_reply": "2021-11-04T03:54:20.724870Z",
     "shell.execute_reply.started": "2021-11-04T03:53:47.865359Z"
    },
    "tags": []
   },
   "outputs": [
    {
     "name": "stdout",
     "output_type": "stream",
     "text": [
      "Shape: (512, 512, 363) | Spacing: (0.35546875, 0.35546875, 0.44999998807907104) | Direction: (1.0, 0.0, 0.0, 0.0, -1.0, 0.0, 0.0, 0.0, 1.0)\n",
      "Shape: (512, 512, 239) | Spacing: (0.4882810115814209, 0.4882810115814209, 0.625) | Direction: (1.0, 0.0, 0.0, 0.0, -1.0, 0.0, 0.0, 0.0, 1.0)\n",
      "Shape: (512, 512, 298) | Spacing: (0.302734375, 0.302734375, 0.44999998807907104) | Direction: (1.0, 0.0, 0.0, 0.0, -1.0, 0.0, 0.0, 0.0, 1.0)\n",
      "Shape: (512, 512, 200) | Spacing: (0.3203119933605194, 0.3203119933605194, 0.625) | Direction: (1.0, 0.0, 0.0, 0.0, -1.0, 0.0, 0.0, 0.0, 1.0)\n",
      "Shape: (512, 512, 177) | Spacing: (0.4882810115814209, 0.4882810115814209, 0.625) | Direction: (1.0, 0.0, 0.0, 0.0, -1.0, 0.0, 0.0, 0.0, 1.0)\n",
      "Shape: (512, 512, 248) | Spacing: (0.4882810115814209, 0.4882810115814209, 0.625) | Direction: (1.0, 0.0, 0.0, 0.0, -1.0, 0.0, 0.0, 0.0, 1.0)\n",
      "Shape: (512, 512, 243) | Spacing: (0.43554699420928955, 0.43554699420928955, 0.625) | Direction: (1.0, 0.0, 0.0, 0.0, -1.0, 0.0, 0.0, 0.0, 1.0)\n",
      "Shape: (512, 512, 222) | Spacing: (0.4375, 0.4375, 0.625) | Direction: (1.0, 0.0, 0.0, 0.0, -1.0, 0.0, 0.0, 0.0, 1.0)\n",
      "Shape: (512, 512, 293) | Spacing: (0.4882810115814209, 0.4882810115814209, 0.625) | Direction: (1.0, 0.0, 0.0, 0.0, -1.0, 0.0, 0.0, 0.0, 1.0)\n",
      "Shape: (512, 512, 274) | Spacing: (0.5058590173721313, 0.5058590173721313, 0.625) | Direction: (1.0, 0.0, 0.0, 0.0, -1.0, 0.0, 0.0, 0.0, 1.0)\n",
      "Shape: (512, 512, 239) | Spacing: (0.38867199420928955, 0.38867199420928955, 0.625) | Direction: (1.0, 0.0, 0.0, 0.0, -1.0, 0.0, 0.0, 0.0, 1.0)\n",
      "Shape: (512, 512, 177) | Spacing: (0.4882810115814209, 0.4882810115814209, 0.625) | Direction: (1.0, 0.0, 0.0, 0.0, -1.0, 0.0, 0.0, 0.0, 1.0)\n",
      "Shape: (512, 512, 211) | Spacing: (0.43945300579071045, 0.43945300579071045, 0.625) | Direction: (1.0, 0.0, 0.0, 0.0, -1.0, 0.0, 0.0, 0.0, 1.0)\n",
      "Shape: (512, 512, 358) | Spacing: (0.28125, 0.28125, 0.44999998807907104) | Direction: (1.0, 0.0, 0.0, 0.0, -1.0, 0.0, 0.0, 0.0, 1.0)\n",
      "Shape: (512, 512, 300) | Spacing: (0.5644530057907104, 0.5644530057907104, 0.625) | Direction: (1.0, 0.0, 0.0, 0.0, -1.0, 0.0, 0.0, 0.0, 1.0)\n",
      "Shape: (512, 512, 333) | Spacing: (0.306640625, 0.306640625, 0.44999998807907104) | Direction: (1.0, 0.0, 0.0, 0.0, -1.0, 0.0, 0.0, 0.0, 1.0)\n",
      "Shape: (512, 512, 283) | Spacing: (0.5859379768371582, 0.5859379768371582, 0.625) | Direction: (1.0, 0.0, 0.0, 0.0, -1.0, 0.0, 0.0, 0.0, 1.0)\n",
      "Shape: (512, 512, 187) | Spacing: (0.36523398756980896, 0.36523398756980896, 0.625) | Direction: (1.0, 0.0, 0.0, 0.0, -1.0, 0.0, 0.0, 0.0, 1.0)\n",
      "Shape: (512, 512, 297) | Spacing: (0.4882810115814209, 0.4882810115814209, 0.625) | Direction: (1.0, 0.0, 0.0, 0.0, -1.0, 0.0, 0.0, 0.0, 1.0)\n",
      "Shape: (512, 512, 363) | Spacing: (0.35546875, 0.35546875, 0.44999998807907104) | Direction: (1.0, 0.0, 0.0, 0.0, -1.0, 0.0, 0.0, 0.0, 1.0)\n",
      "defaultdict(<class 'set'>,\n",
      "            {'direction': {(1.0, 0.0, 0.0, 0.0, -1.0, 0.0, 0.0, 0.0, 1.0)},\n",
      "             'shape': {(512, 512, 177),\n",
      "                       (512, 512, 187),\n",
      "                       (512, 512, 200),\n",
      "                       (512, 512, 211),\n",
      "                       (512, 512, 222),\n",
      "                       (512, 512, 239),\n",
      "                       (512, 512, 243),\n",
      "                       (512, 512, 248),\n",
      "                       (512, 512, 274),\n",
      "                       (512, 512, 283),\n",
      "                       (512, 512, 293),\n",
      "                       (512, 512, 297),\n",
      "                       (512, 512, 298),\n",
      "                       (512, 512, 300),\n",
      "                       (512, 512, 333),\n",
      "                       (512, 512, 358),\n",
      "                       (512, 512, 363)},\n",
      "             'spacing': {(0.28125, 0.28125, 0.44999998807907104),\n",
      "                         (0.302734375, 0.302734375, 0.44999998807907104),\n",
      "                         (0.306640625, 0.306640625, 0.44999998807907104),\n",
      "                         (0.3203119933605194, 0.3203119933605194, 0.625),\n",
      "                         (0.35546875, 0.35546875, 0.44999998807907104),\n",
      "                         (0.36523398756980896, 0.36523398756980896, 0.625),\n",
      "                         (0.38867199420928955, 0.38867199420928955, 0.625),\n",
      "                         (0.43554699420928955, 0.43554699420928955, 0.625),\n",
      "                         (0.4375, 0.4375, 0.625),\n",
      "                         (0.43945300579071045, 0.43945300579071045, 0.625),\n",
      "                         (0.4882810115814209, 0.4882810115814209, 0.625),\n",
      "                         (0.5058590173721313, 0.5058590173721313, 0.625),\n",
      "                         (0.5644530057907104, 0.5644530057907104, 0.625),\n",
      "                         (0.5859379768371582, 0.5859379768371582, 0.625)}})\n"
     ]
    }
   ],
   "source": [
    "np.set_printoptions(formatter={'float': lambda x: \"{0:0.3f}\".format(x)})\n",
    "np.set_printoptions(precision=3)\n",
    "\n",
    "unique_props = collections.defaultdict(set)\n",
    "for i, S in df.iterrows():\n",
    "    image = S['image']\n",
    "    mask = S['mask']\n",
    "    \n",
    "    sitk_image = sitk.ReadImage(image)\n",
    "    spac = sitk_image.GetSpacing()\n",
    "    direc = sitk_image.GetDirection()\n",
    "    shape = sitk_image.GetSize()\n",
    "    \n",
    "    unique_props['shape'].add(tuple(shape))\n",
    "    unique_props['spacing'].add(tuple(spac))\n",
    "    unique_props['direction'].add(tuple(direc))\n",
    "    \n",
    "    print(f'Shape: {shape} | Spacing: {spac} | Direction: {direc}')\n",
    "pprint.pprint(unique_props)"
   ]
  },
  {
   "cell_type": "markdown",
   "id": "activated-tennessee",
   "metadata": {},
   "source": [
    "### Masks"
   ]
  },
  {
   "cell_type": "code",
   "execution_count": 6,
   "id": "bridal-force",
   "metadata": {
    "execution": {
     "iopub.execute_input": "2021-11-05T09:10:21.492144Z",
     "iopub.status.busy": "2021-11-05T09:10:21.491599Z",
     "iopub.status.idle": "2021-11-05T09:10:45.515612Z",
     "shell.execute_reply": "2021-11-05T09:10:45.513684Z",
     "shell.execute_reply.started": "2021-11-05T09:10:21.492093Z"
    },
    "tags": []
   },
   "outputs": [
    {
     "name": "stdout",
     "output_type": "stream",
     "text": [
      "0 -> 0\n",
      "205 -> 1\n",
      "420 -> 2\n",
      "500 -> 3\n",
      "550 -> 4\n",
      "600 -> 5\n",
      "820 -> 6\n",
      "850 -> 7\n",
      "0 -> 0\n",
      "205 -> 1\n",
      "420 -> 2\n",
      "500 -> 3\n",
      "550 -> 4\n",
      "600 -> 5\n",
      "820 -> 6\n",
      "850 -> 7\n",
      "0 -> 0\n",
      "205 -> 1\n",
      "420 -> 2\n",
      "500 -> 3\n",
      "550 -> 4\n",
      "600 -> 5\n",
      "820 -> 6\n",
      "850 -> 7\n",
      "0 -> 0\n",
      "205 -> 1\n",
      "420 -> 2\n",
      "500 -> 3\n",
      "550 -> 4\n",
      "600 -> 5\n",
      "820 -> 6\n",
      "850 -> 7\n",
      "0 -> 0\n",
      "205 -> 1\n",
      "420 -> 2\n",
      "500 -> 3\n",
      "550 -> 4\n",
      "600 -> 5\n",
      "820 -> 6\n",
      "850 -> 7\n"
     ]
    },
    {
     "ename": "KeyboardInterrupt",
     "evalue": "",
     "output_type": "error",
     "traceback": [
      "\u001b[0;31m---------------------------------------------------------------------------\u001b[0m",
      "\u001b[0;31mKeyboardInterrupt\u001b[0m                         Traceback (most recent call last)",
      "\u001b[0;32m<ipython-input-6-b3cc4c919c71>\u001b[0m in \u001b[0;36m<module>\u001b[0;34m\u001b[0m\n\u001b[1;32m     18\u001b[0m     \u001b[0msitk_mask\u001b[0m \u001b[0;34m=\u001b[0m \u001b[0msitk\u001b[0m\u001b[0;34m.\u001b[0m\u001b[0mReadImage\u001b[0m\u001b[0;34m(\u001b[0m\u001b[0mmask\u001b[0m\u001b[0;34m)\u001b[0m\u001b[0;34m\u001b[0m\u001b[0;34m\u001b[0m\u001b[0m\n\u001b[1;32m     19\u001b[0m     \u001b[0mmask_arr\u001b[0m \u001b[0;34m=\u001b[0m \u001b[0msitk\u001b[0m\u001b[0;34m.\u001b[0m\u001b[0mGetArrayFromImage\u001b[0m\u001b[0;34m(\u001b[0m\u001b[0msitk_mask\u001b[0m\u001b[0;34m)\u001b[0m\u001b[0;34m\u001b[0m\u001b[0;34m\u001b[0m\u001b[0m\n\u001b[0;32m---> 20\u001b[0;31m     \u001b[0;32mfor\u001b[0m \u001b[0mi\u001b[0m\u001b[0;34m,\u001b[0m \u001b[0mv\u001b[0m \u001b[0;32min\u001b[0m \u001b[0menumerate\u001b[0m\u001b[0;34m(\u001b[0m\u001b[0mnp\u001b[0m\u001b[0;34m.\u001b[0m\u001b[0munique\u001b[0m\u001b[0;34m(\u001b[0m\u001b[0mmask_arr\u001b[0m\u001b[0;34m)\u001b[0m\u001b[0;34m)\u001b[0m\u001b[0;34m:\u001b[0m\u001b[0;34m\u001b[0m\u001b[0;34m\u001b[0m\u001b[0m\n\u001b[0m\u001b[1;32m     21\u001b[0m         \u001b[0mprint\u001b[0m\u001b[0;34m(\u001b[0m\u001b[0mv\u001b[0m\u001b[0;34m,\u001b[0m \u001b[0;34m'->'\u001b[0m\u001b[0;34m,\u001b[0m \u001b[0mi\u001b[0m\u001b[0;34m)\u001b[0m\u001b[0;34m\u001b[0m\u001b[0;34m\u001b[0m\u001b[0m\n\u001b[1;32m     22\u001b[0m         \u001b[0mmask_arr\u001b[0m\u001b[0;34m[\u001b[0m\u001b[0mmask_arr\u001b[0m \u001b[0;34m==\u001b[0m \u001b[0mv\u001b[0m\u001b[0;34m]\u001b[0m \u001b[0;34m=\u001b[0m \u001b[0mi\u001b[0m\u001b[0;34m\u001b[0m\u001b[0;34m\u001b[0m\u001b[0m\n",
      "\u001b[0;32m<__array_function__ internals>\u001b[0m in \u001b[0;36munique\u001b[0;34m(*args, **kwargs)\u001b[0m\n",
      "\u001b[0;32m~/.local/lib/python3.7/site-packages/numpy/lib/arraysetops.py\u001b[0m in \u001b[0;36munique\u001b[0;34m(ar, return_index, return_inverse, return_counts, axis)\u001b[0m\n\u001b[1;32m    270\u001b[0m     \u001b[0mar\u001b[0m \u001b[0;34m=\u001b[0m \u001b[0mnp\u001b[0m\u001b[0;34m.\u001b[0m\u001b[0masanyarray\u001b[0m\u001b[0;34m(\u001b[0m\u001b[0mar\u001b[0m\u001b[0;34m)\u001b[0m\u001b[0;34m\u001b[0m\u001b[0;34m\u001b[0m\u001b[0m\n\u001b[1;32m    271\u001b[0m     \u001b[0;32mif\u001b[0m \u001b[0maxis\u001b[0m \u001b[0;32mis\u001b[0m \u001b[0;32mNone\u001b[0m\u001b[0;34m:\u001b[0m\u001b[0;34m\u001b[0m\u001b[0;34m\u001b[0m\u001b[0m\n\u001b[0;32m--> 272\u001b[0;31m         \u001b[0mret\u001b[0m \u001b[0;34m=\u001b[0m \u001b[0m_unique1d\u001b[0m\u001b[0;34m(\u001b[0m\u001b[0mar\u001b[0m\u001b[0;34m,\u001b[0m \u001b[0mreturn_index\u001b[0m\u001b[0;34m,\u001b[0m \u001b[0mreturn_inverse\u001b[0m\u001b[0;34m,\u001b[0m \u001b[0mreturn_counts\u001b[0m\u001b[0;34m)\u001b[0m\u001b[0;34m\u001b[0m\u001b[0;34m\u001b[0m\u001b[0m\n\u001b[0m\u001b[1;32m    273\u001b[0m         \u001b[0;32mreturn\u001b[0m \u001b[0m_unpack_tuple\u001b[0m\u001b[0;34m(\u001b[0m\u001b[0mret\u001b[0m\u001b[0;34m)\u001b[0m\u001b[0;34m\u001b[0m\u001b[0;34m\u001b[0m\u001b[0m\n\u001b[1;32m    274\u001b[0m \u001b[0;34m\u001b[0m\u001b[0m\n",
      "\u001b[0;32m~/.local/lib/python3.7/site-packages/numpy/lib/arraysetops.py\u001b[0m in \u001b[0;36m_unique1d\u001b[0;34m(ar, return_index, return_inverse, return_counts)\u001b[0m\n\u001b[1;32m    331\u001b[0m         \u001b[0maux\u001b[0m \u001b[0;34m=\u001b[0m \u001b[0mar\u001b[0m\u001b[0;34m[\u001b[0m\u001b[0mperm\u001b[0m\u001b[0;34m]\u001b[0m\u001b[0;34m\u001b[0m\u001b[0;34m\u001b[0m\u001b[0m\n\u001b[1;32m    332\u001b[0m     \u001b[0;32melse\u001b[0m\u001b[0;34m:\u001b[0m\u001b[0;34m\u001b[0m\u001b[0;34m\u001b[0m\u001b[0m\n\u001b[0;32m--> 333\u001b[0;31m         \u001b[0mar\u001b[0m\u001b[0;34m.\u001b[0m\u001b[0msort\u001b[0m\u001b[0;34m(\u001b[0m\u001b[0;34m)\u001b[0m\u001b[0;34m\u001b[0m\u001b[0;34m\u001b[0m\u001b[0m\n\u001b[0m\u001b[1;32m    334\u001b[0m         \u001b[0maux\u001b[0m \u001b[0;34m=\u001b[0m \u001b[0mar\u001b[0m\u001b[0;34m\u001b[0m\u001b[0;34m\u001b[0m\u001b[0m\n\u001b[1;32m    335\u001b[0m     \u001b[0mmask\u001b[0m \u001b[0;34m=\u001b[0m \u001b[0mnp\u001b[0m\u001b[0;34m.\u001b[0m\u001b[0mempty\u001b[0m\u001b[0;34m(\u001b[0m\u001b[0maux\u001b[0m\u001b[0;34m.\u001b[0m\u001b[0mshape\u001b[0m\u001b[0;34m,\u001b[0m \u001b[0mdtype\u001b[0m\u001b[0;34m=\u001b[0m\u001b[0mnp\u001b[0m\u001b[0;34m.\u001b[0m\u001b[0mbool_\u001b[0m\u001b[0;34m)\u001b[0m\u001b[0;34m\u001b[0m\u001b[0;34m\u001b[0m\u001b[0m\n",
      "\u001b[0;31mKeyboardInterrupt\u001b[0m: "
     ]
    }
   ],
   "source": [
    "np.set_printoptions(formatter={'float': lambda x: \"{0:0.3f}\".format(x)})\n",
    "np.set_printoptions(precision=3)\n",
    "\n",
    "unique_props = collections.defaultdict(set)\n",
    "for i, S in df.iterrows():\n",
    "    image = S['image']\n",
    "    mask = S['mask']\n",
    "    \n",
    "    sitk_image = sitk.ReadImage(image)\n",
    "    spac = sitk_image.GetSpacing()\n",
    "    direc = sitk_image.GetDirection()\n",
    "    shape = sitk_image.GetSize()\n",
    "    \n",
    "    unique_props['shape'].add(tuple(shape))\n",
    "    unique_props['spacing'].add(tuple(spac))\n",
    "    unique_props['direction'].add(tuple(direc))\n",
    "    \n",
    "    sitk_mask = sitk.ReadImage(mask)\n",
    "    mask_arr = sitk.GetArrayFromImage(sitk_mask)\n",
    "    for i, v in enumerate(np.unique(mask_arr)):\n",
    "        print(v, '->', i)\n",
    "        mask_arr[mask_arr == v] = i\n",
    "    new_sitk_mask = sitk.GetImageFromArray(mask_arr)\n",
    "    new_sitk_mask.CopyInformation(sitk_mask)\n",
    "pprint.pprint(unique_props)"
   ]
  },
  {
   "cell_type": "code",
   "execution_count": null,
   "id": "capable-columbus",
   "metadata": {},
   "outputs": [],
   "source": []
  }
 ],
 "metadata": {
  "kernelspec": {
   "display_name": "Python 3",
   "language": "python",
   "name": "python3"
  },
  "language_info": {
   "codemirror_mode": {
    "name": "ipython",
    "version": 3
   },
   "file_extension": ".py",
   "mimetype": "text/x-python",
   "name": "python",
   "nbconvert_exporter": "python",
   "pygments_lexer": "ipython3",
   "version": "3.7.3"
  }
 },
 "nbformat": 4,
 "nbformat_minor": 5
}
