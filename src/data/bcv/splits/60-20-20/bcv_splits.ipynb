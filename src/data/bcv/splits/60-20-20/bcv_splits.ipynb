{
    "cells": [
        {
            "cell_type": "code",
            "execution_count": 6,
            "source": [
                "\n",
                "## Fast Import\n",
                "%load_ext autoreload\n",
                "%autoreload 2\n",
                "%matplotlib inline\n",
                "\n",
                "import sys, os\n",
                "import pathlib\n",
                "import time\n",
                "import math, random\n",
                "import pprint\n",
                "import collections\n",
                "import numbers, string\n",
                "\n",
                "import yaml\n",
                "from tqdm import tqdm\n",
                "\n",
                "import cv2\n",
                "import numpy as np\n",
                "import pandas as pd\n",
                "import matplotlib.pyplot as plt\n",
                "import SimpleITK as sitk\n",
                "from PIL import Image\n",
                "\n",
                "import torch, torchvision\n",
                "import torch.nn as nn\n",
                "import torch.nn.functional as F\n",
                "import torchvision.transforms as T\n",
                "import albumentations as A\n",
                "\n",
                "np.set_printoptions(precision=3)\n",
                "curr_path = pathlib.Path(os.getcwd()).absolute()\n",
                "\n",
                "cards = !echo $SGE_HGR_gpu_card\n",
                "device = torch.device(f\"cuda:{cards[0]}\" if torch.cuda.is_available() else 'cpu')\n",
                "print(device)\n",
                "\n",
                "src_dir = str(curr_path.parent.parent.parent)\n",
                "if src_dir not in sys.path:\n",
                "    sys.path.append(src_dir)\n",
                "    \n",
                "from data.bcv.dataset import get_df as get_bcv_df\n",
                "from data.utils import split"
            ],
            "outputs": [
                {
                    "output_type": "stream",
                    "name": "stdout",
                    "text": [
                        "The autoreload extension is already loaded. To reload it, use:\n",
                        "  %reload_ext autoreload\n",
                        "cpu\n"
                    ]
                }
            ],
            "metadata": {}
        },
        {
            "cell_type": "markdown",
            "source": [
                "# Create 10 Splits (60-20-20 train-val-test)"
            ],
            "metadata": {}
        },
        {
            "cell_type": "code",
            "execution_count": 34,
            "source": [
                "df = get_bcv_df()\n",
                "\n",
                "for i in range(10):\n",
                "    print(f'Creating split {i+1}..')\n",
                "    \n",
                "    train_i, val_i, test_i = split(range(len(df)))\n",
                "    print('Num train, val, test samples:' ,\n",
                "          len(train_i), len(val_i), len(test_i))\n",
                "    \n",
                "    split_df = df.copy()\n",
                "    split_df.loc[val_i, 'subset'] = 'val'\n",
                "    split_df.loc[test_i, 'subset'] = 'test'\n",
                "    \n",
                "    split_df.to_csv(f'60-20-20_{i+1}.csv', index=False)"
            ],
            "outputs": [
                {
                    "output_type": "stream",
                    "name": "stdout",
                    "text": [
                        "Loading default BCV df (/Users/charzhar/Desktop/_Datasets/BCV-2015/default_df.csv).\n",
                        "Creating split 1..\n",
                        "Num train, val, test samples: 18 6 6\n",
                        "Creating split 2..\n",
                        "Num train, val, test samples: 18 6 6\n",
                        "Creating split 3..\n",
                        "Num train, val, test samples: 18 6 6\n",
                        "Creating split 4..\n",
                        "Num train, val, test samples: 18 6 6\n",
                        "Creating split 5..\n",
                        "Num train, val, test samples: 18 6 6\n",
                        "Creating split 6..\n",
                        "Num train, val, test samples: 18 6 6\n",
                        "Creating split 7..\n",
                        "Num train, val, test samples: 18 6 6\n",
                        "Creating split 8..\n",
                        "Num train, val, test samples: 18 6 6\n",
                        "Creating split 9..\n",
                        "Num train, val, test samples: 18 6 6\n",
                        "Creating split 10..\n",
                        "Num train, val, test samples: 18 6 6\n"
                    ]
                }
            ],
            "metadata": {}
        }
    ],
    "metadata": {
        "orig_nbformat": 4,
        "language_info": {
            "name": "python",
            "version": "3.9.2",
            "mimetype": "text/x-python",
            "codemirror_mode": {
                "name": "ipython",
                "version": 3
            },
            "pygments_lexer": "ipython3",
            "nbconvert_exporter": "python",
            "file_extension": ".py"
        },
        "kernelspec": {
            "name": "python3",
            "display_name": "Python 3.9.2 64-bit"
        },
        "interpreter": {
            "hash": "aee8b7b246df8f9039afb4144a1f6fd8d2ca17a180786b69acc140d282b71a49"
        }
    },
    "nbformat": 4,
    "nbformat_minor": 2
}